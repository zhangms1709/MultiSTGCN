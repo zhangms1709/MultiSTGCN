{
 "cells": [
  {
   "cell_type": "markdown",
   "metadata": {},
   "source": [
    "<h1><center>SpaGCN Tutorial Easy Mode</center></h1>\n",
    "\n",
    "\n",
    "<center>Author: Jian Hu,*, Xiangjie Li, Kyle Coleman, Amelia Schroeder, Nan Ma, David J. Irwin, Edward B. Lee, Russell T. Shinohara, Mingyao Li*"
   ]
  },
  {
   "cell_type": "markdown",
   "metadata": {},
   "source": [
    "### Outline\n",
    "1. Installation\n",
    "2. Import modules\n",
    "3. Read in data\n",
    "4. Spatial domain detection using SpaGCN\n",
    "5. Identify SVGs\n",
    "6. Identify Meta Gene"
   ]
  },
  {
   "cell_type": "markdown",
   "metadata": {},
   "source": [
    "### 1. Installation\n",
    "To install SpaGCN package you must make sure that your python version is over 3.5.=. If you don’t know the version of python you can check it by:"
   ]
  },
  {
   "cell_type": "code",
   "execution_count": 1,
   "metadata": {},
   "outputs": [
    {
     "data": {
      "text/plain": [
       "'3.11.6'"
      ]
     },
     "execution_count": 1,
     "metadata": {},
     "output_type": "execute_result"
    }
   ],
   "source": [
    "import platform\n",
    "platform.python_version()"
   ]
  },
  {
   "cell_type": "markdown",
   "metadata": {},
   "source": [
    "Note: Because SpaGCN pends on pytorch, you should make sure torch is correctly installed.\n",
    "<br>\n",
    "Now you can install the current release of SpaGCN by the following three ways:\n",
    "#### 1.1 PyPI: Directly install the package from PyPI."
   ]
  },
  {
   "cell_type": "code",
   "execution_count": 2,
   "metadata": {},
   "outputs": [
    {
     "ename": "SyntaxError",
     "evalue": "invalid syntax (432058694.py, line 1)",
     "output_type": "error",
     "traceback": [
      "\u001b[0;36m  Cell \u001b[0;32mIn[2], line 1\u001b[0;36m\u001b[0m\n\u001b[0;31m    pip3 install SpaGCN\u001b[0m\n\u001b[0m         ^\u001b[0m\n\u001b[0;31mSyntaxError\u001b[0m\u001b[0;31m:\u001b[0m invalid syntax\n"
     ]
    }
   ],
   "source": [
    "pip3 install SpaGCN\n",
    "#Note: you need to make sure that the pip is for python3，or we should install SpaGCN by\n",
    "python3 -m pip install SpaGCN\n",
    "pip3 install SpaGCN\n",
    "#If you do not have permission (when you get a permission denied error), you should install SpaGCN by\n",
    "pip3 install --user SpaGCN"
   ]
  },
  {
   "cell_type": "markdown",
   "metadata": {},
   "source": [
    "#### 1.2 Github\n",
    "Download the package from Github and install it locally:"
   ]
  },
  {
   "cell_type": "code",
   "execution_count": null,
   "metadata": {},
   "outputs": [],
   "source": [
    "git clone https://github.com/jianhuupenn/SpaGCN\n",
    "cd SpaGCN/SpaGCN_package/\n",
    "python3 setup.py install --user"
   ]
  },
  {
   "cell_type": "markdown",
   "metadata": {},
   "source": [
    "#### 1.3 Anaconda\n",
    "If you do not have Python3.5 or Python3.6 installed, consider installing Anaconda (see Installing Anaconda). After installing Anaconda, you can create a new environment, for example, SpaGCN (you can change to any name you like)."
   ]
  },
  {
   "cell_type": "code",
   "execution_count": null,
   "metadata": {},
   "outputs": [
    {
     "ename": "SyntaxError",
     "evalue": "invalid syntax (1822059814.py, line 2)",
     "output_type": "error",
     "traceback": [
      "\u001b[0;36m  Cell \u001b[0;32mIn[3], line 2\u001b[0;36m\u001b[0m\n\u001b[0;31m    conda create -n SpaGCN python=3.7.9\u001b[0m\n\u001b[0m          ^\u001b[0m\n\u001b[0;31mSyntaxError\u001b[0m\u001b[0;31m:\u001b[0m invalid syntax\n"
     ]
    }
   ],
   "source": [
    "#create an environment called SpaGCN\n",
    "conda create -n SpaGCN python=3.7.9\n",
    "#activate your environment \n",
    "conda activate SpaGCN\n",
    "git clone https://github.com/jianhuupenn/SpaGCN\n",
    "cd SpaGCN/SpaGCN_package/\n",
    "python3 setup.py build\n",
    "python3 setup.py install\n",
    "conda deactivate"
   ]
  },
  {
   "cell_type": "markdown",
   "metadata": {},
   "source": [
    "### 2. Import python modules"
   ]
  },
  {
   "cell_type": "code",
   "execution_count": 1,
   "metadata": {},
   "outputs": [
    {
     "name": "stderr",
     "output_type": "stream",
     "text": [
      "OMP: Info #276: omp_set_nested routine deprecated, please use omp_set_max_active_levels instead.\n"
     ]
    }
   ],
   "source": [
    "import os,csv,re\n",
    "import pandas as pd\n",
    "import numpy as np\n",
    "import scanpy as sc\n",
    "import math\n",
    "from SpaGCN.ez_mode import detect_spatial_domains_ez_mode, spatial_domains_refinement_ez_mode, plot_spatial_domains_ez_mode, detect_meta_genes_ez_mode, detect_SVGs_ez_mode, plot_SVGs_ez_mode, plot_meta_genes_ez_mode\n",
    "# import SpaGCN as spg\n",
    "# import sys\n",
    "# sys.path.append(\"SpaGCN_package/SpaGCN\")\n",
    "from scipy.sparse import issparse\n",
    "import random, torch\n",
    "import warnings\n",
    "warnings.filterwarnings(\"ignore\")\n",
    "import matplotlib.colors as clr\n",
    "import matplotlib.pyplot as plt\n",
    "# import SpaGCN as spg\n",
    "#In order to read in image data, we need to install some package. Here we recommend package \"opencv\"\n",
    "#install opencv in python\n",
    "#!pip3 install opencv-python\n",
    "import cv2"
   ]
  },
  {
   "cell_type": "code",
   "execution_count": 26,
   "metadata": {},
   "outputs": [
    {
     "name": "stdout",
     "output_type": "stream",
     "text": [
      "/Users/masonzhang/Desktop/SpaGCN/SpaGCN_package\n"
     ]
    }
   ],
   "source": [
    "print(os.getcwd())\n",
    "# os.chdir('../')\n",
    "# /Users/masonzhang/Desktop/SpaGCN/SpaGCN_package\n",
    "# os.chdir('../../tutorial')"
   ]
  },
  {
   "cell_type": "code",
   "execution_count": null,
   "metadata": {},
   "outputs": [],
   "source": [
    "spg.__version__"
   ]
  },
  {
   "cell_type": "markdown",
   "metadata": {},
   "source": [
    "### 3. Read in data\n",
    "The current version of SpaGCN requres three input data: \n",
    "<br>\n",
    "1. The gene expression matrix(n by k): expression_matrix.h5;\n",
    "<br>\n",
    "2. Spatial coordinateds of samplespositions.txt;\n",
    "<br>\n",
    "3. Histology image(optional): histology.tif, can be tif or png or jepg.\n",
    "<br>\n",
    "The gene expreesion data can be stored as an AnnData object. AnnData stores a data matrix .X together with annotations of observations .obs, variables .var and unstructured annotations .uns. "
   ]
  },
  {
   "cell_type": "code",
   "execution_count": 3,
   "metadata": {},
   "outputs": [],
   "source": [
    "#Read original 10x_h5 data and save it to h5ad\n",
    "# from scanpy import read_10x_h5\n",
    "# adata2 = read_10x_h5(\"../tutorial/data/151674/151674_raw_feature_bc_matrix.h5\")\n",
    "# spatial=pd.read_csv(\"../tutorial/data/151674/spatial/tissue_positions_list.csv\",sep=\",\",header=None,na_filter=False,index_col=0) \n",
    "# adata2.obs[\"x1\"]=spatial[1]\n",
    "# adata2.obs[\"x2\"]=spatial[2]\n",
    "# adata2.obs[\"x3\"]=spatial[3]\n",
    "# adata2.obs[\"x4\"]=spatial[4]\n",
    "# adata2.obs[\"x5\"]=spatial[5]\n",
    "# #Select captured samples\n",
    "# adata2=adata2[adata2.obs[\"x1\"]==1]\n",
    "# adata2.var_names=[i.upper() for i in list(adata2.var_names)]\n",
    "# adata2.var[\"genename\"]=adata2.var.index.astype(\"str\")\n",
    "# adata2.write_h5ad(\"../tutorial/data/151674/sample_data.h5ad\")\n",
    "#Read in gene expression and spatial location\n",
    "adata=sc.read(\"../tutorial/data/151673/sample_data.h5ad\")\n",
    "adata2=sc.read(\"../tutorial/data/151674/sample_data.h5ad\")\n",
    "#Read in hitology image\n",
    "img=cv2.imread(\"../tutorial/data/151673/histology.tif\")\n",
    "img2=cv2.imread(\"../tutorial/data/151674/spatial/151674_full_image.tiff\")"
   ]
  },
  {
   "cell_type": "markdown",
   "metadata": {},
   "source": [
    "### 4. Spatial domain detection using SpaGCN"
   ]
  },
  {
   "cell_type": "markdown",
   "metadata": {},
   "source": [
    "- s: This parameter determines the weight given to histology when calculating Euclidean distance between every two spots. ‘s = 1’ means that the histology pixel intensity value has the same scale variance as the (x,y) coordinates, whereas higher value of ‘s’ indicates higher scale variance, hence, higher weight to histology, when calculating the Euclidean distance. \n",
    "\n",
    "- b: This parameter determines the area of each spot when extracting color intensity.\n",
    "- n_clusters: Number of spatial domains wanted.\n",
    "- res: Resolution in the initial Louvain's Clustering methods. If the number of clusters is known, we can use the spg.search_res() fnction to search for suitable resolution(optional)"
   ]
  },
  {
   "cell_type": "code",
   "execution_count": 4,
   "metadata": {},
   "outputs": [
    {
     "name": "stdout",
     "output_type": "stream",
     "text": [
      "hello!\n",
      "Calculating adj matrix using histology image...\n",
      "Var of c0,c1,c2 =  56.37902237134122 213.8296960765196 94.30149915618661\n",
      "Var of x,y,z =  5606737.526317932 4468793.817921193 5606737.526317932\n",
      "Run 1: l [0.01, 1000], p [0.0, 140.59282153866044]\n",
      "Run 2: l [0.01, 500.005], p [0.0, 24.66988182067871]\n",
      "Run 3: l [0.01, 250.0075], p [0.0, 3.638960838317871]\n",
      "Run 4: l [125.00874999999999, 250.0075], p [0.43257105350494385, 3.638960838317871]\n",
      "Run 5: l [125.00874999999999, 187.508125], p [0.43257105350494385, 1.5553991794586182]\n",
      "Run 6: l [125.00874999999999, 156.2584375], p [0.43257105350494385, 0.887833833694458]\n",
      "Run 7: l [125.00874999999999, 140.63359375], p [0.43257105350494385, 0.6356645822525024]\n",
      "Run 8: l [125.00874999999999, 132.821171875], p [0.43257105350494385, 0.528247594833374]\n",
      "Run 9: l [128.91496093749998, 132.821171875], p [0.47897565364837646, 0.528247594833374]\n",
      "recommended l =  130.86806640625\n",
      "Start at res =  0.7 step =  0.1\n",
      "Initializing cluster centers with louvain, resolution =  0.7\n",
      "Epoch  0\n",
      "Epoch  10\n",
      "Res =  0.7 Num of clusters =  8\n",
      "Initializing cluster centers with louvain, resolution =  0.6\n",
      "Epoch  0\n",
      "Epoch  10\n",
      "Res =  0.6 Num of clusters =  7\n",
      "recommended res =  0.6\n",
      "Initializing cluster centers with louvain, resolution =  0.6\n",
      "Epoch  0\n",
      "Epoch  10\n",
      "Epoch  20\n",
      "Epoch  30\n",
      "delta_label  0.004122011541632316 < tol  0.005\n",
      "Reach tolerance threshold. Stopping training.\n",
      "Total epoch: 37\n",
      "Calculateing adj matrix using xy only...\n",
      "hello!\n",
      "Calculating adj matrix using histology image...\n",
      "Var of c0,c1,c2 =  51.26811172627263 377.7625937511505 81.55259989799939\n",
      "Var of x,y,z =  5859121.663035659 4365852.6924909325 5859121.663035658\n",
      "Run 1: l [0.01, 1000], p [0.0, 157.2196281714928]\n",
      "Run 2: l [0.01, 500.005], p [0.0, 30.10426139831543]\n",
      "Run 3: l [0.01, 250.0075], p [0.0, 4.810915470123291]\n",
      "Run 4: l [0.01, 125.00874999999999], p [0.0, 0.6218223571777344]\n",
      "Run 5: l [62.509375, 125.00874999999999], p [0.0361025333404541, 0.6218223571777344]\n",
      "Run 6: l [93.7590625, 125.00874999999999], p [0.23160934448242188, 0.6218223571777344]\n",
      "Run 7: l [109.38390625, 125.00874999999999], p [0.40012264251708984, 0.6218223571777344]\n",
      "recommended l =  117.196328125\n",
      "Start at res =  0.7 step =  0.1\n",
      "Initializing cluster centers with louvain, resolution =  0.7\n",
      "Epoch  0\n",
      "Epoch  10\n",
      "Res =  0.7 Num of clusters =  7\n",
      "recommended res =  0.7\n",
      "Initializing cluster centers with louvain, resolution =  0.7\n",
      "Epoch  0\n",
      "Epoch  10\n",
      "Epoch  20\n",
      "Epoch  30\n",
      "delta_label  0.0038115981486523277 < tol  0.005\n",
      "Reach tolerance threshold. Stopping training.\n",
      "Total epoch: 34\n",
      "Calculateing adj matrix using xy only...\n"
     ]
    }
   ],
   "source": [
    "def run_model(adata, img): #Set coordinates\n",
    "    adata.obs[\"x_array\"]=adata.obs[\"x2\"]\n",
    "    adata.obs[\"y_array\"]=adata.obs[\"x3\"]\n",
    "    adata.obs[\"x_pixel\"]=adata.obs[\"x4\"]\n",
    "    adata.obs[\"y_pixel\"]=adata.obs[\"x5\"]\n",
    "    x_array=adata.obs[\"x_array\"].tolist()\n",
    "    y_array=adata.obs[\"y_array\"].tolist()\n",
    "    x_pixel=adata.obs[\"x_pixel\"].tolist()\n",
    "    y_pixel=adata.obs[\"y_pixel\"].tolist()\n",
    "    #Run SpaGCN #b=49\n",
    "    adata.obs[\"pred\"]= detect_spatial_domains_ez_mode(adata, img, x_array, y_array, x_pixel, y_pixel, n_clusters=7, histology=True, s=1, b=24, p=0.5, r_seed=100, t_seed=100, n_seed=100)\n",
    "    adata.obs[\"pred\"]=adata.obs[\"pred\"].astype('category')\n",
    "    #Refine domains (optional)\n",
    "    #shape=\"hexagon\" for Visium data, \"square\" for ST data.\n",
    "    adata.obs[\"refined_pred\"]=spatial_domains_refinement_ez_mode(sample_id=adata.obs.index.tolist(), pred=adata.obs[\"pred\"].tolist(), x_array=x_array, y_array=y_array, shape=\"hexagon\")\n",
    "    adata.obs[\"refined_pred\"]=adata.obs[\"refined_pred\"].astype('category')\n",
    "run_model(adata, img)\n",
    "run_model(adata2, img2) \n",
    "# issue is w img2, bc when I use img it works\n",
    "# print(img.shape)\n",
    "# print(img2.shape)\n",
    "# (13332, 13332, 3)  SpaGCN's data\n",
    "# (600, 600, 3) lowres DeepST's data (2000, 2000, 3) hires. \n",
    "# Hires and lowres images not enough, have to use full image which can be found under 'Raw data' on this website: http://spatial.libd.org/spatialLIBD/"
   ]
  },
  {
   "cell_type": "markdown",
   "metadata": {},
   "source": [
    "#### Plot spatial domains"
   ]
  },
  {
   "cell_type": "code",
   "execution_count": 5,
   "metadata": {},
   "outputs": [],
   "source": [
    "plot_color=[\"#F56867\",\"#FEB915\",\"#C798EE\",\"#59BE86\",\"#7495D3\",\"#D1D1D1\",\"#6D1A9C\",\"#15821E\",\"#3A84E6\",\"#997273\",\"#787878\",\"#DB4C6C\",\"#9E7A7A\",\"#554236\",\"#AF5F3C\",\"#93796C\",\"#F9BD3F\",\"#DAB370\",\"#877F6C\",\"#268785\"]\n",
    "ax=plot_spatial_domains_ez_mode(adata, domain_name=\"pred\", x_name=\"y_pixel\", y_name=\"x_pixel\", plot_color=plot_color,size=150000/adata.shape[0], show=False, save=True,save_dir=\"./sample_results/pred4.png\")\n",
    "ax=plot_spatial_domains_ez_mode(adata, domain_name=\"refined_pred\", x_name=\"y_pixel\", y_name=\"x_pixel\", plot_color=plot_color,size=150000/adata.shape[0], show=False, save=True,save_dir=\"./sample_results/refined_pred4.png\")"
   ]
  },
  {
   "cell_type": "markdown",
   "metadata": {},
   "source": [
    "**Spatial Domains**![](./sample_results/pred4.png) **Refined Spatial Domains**![](./sample_results/refined_pred4.png)"
   ]
  },
  {
   "cell_type": "markdown",
   "metadata": {},
   "source": [
    "### 5. Identify SVGs"
   ]
  },
  {
   "cell_type": "markdown",
   "metadata": {},
   "source": [
    "- target: Target domain to identify SVGs.\n",
    "- min_in_group_fraction: Minium in-group expression fraction.\n",
    "- min_in_out_group_ratio: Miniumn (in-group expression fraction) / (out-group expression fraction).\n",
    "- min_fold_change: Miniumn (in-group expression) / (out-group expression).\n",
    "- r: Radius to detect a spot's neighboring spots.target: Target domain to identify SVGs."
   ]
  },
  {
   "cell_type": "code",
   "execution_count": null,
   "metadata": {},
   "outputs": [
    {
     "name": "stdout",
     "output_type": "stream",
     "text": [
      "Calculateing adj matrix using xy only...\n",
      "Calculateing adj matrix using xy only...\n",
      "Calculateing adj matrix using xy only...\n",
      "Run 1: radius [1.4142135381698608, 16.970561981201172], num_nbr [1.0, 321.149863760218]\n",
      "Calculateing adj matrix using xy only...\n",
      "Run 2: radius [1.4142135381698608, 9.192387759685516], num_nbr [1.0, 117.8283378746594]\n",
      "Calculateing adj matrix using xy only...\n",
      "Run 3: radius [1.4142135381698608, 5.303300648927689], num_nbr [1.0, 41.85013623978202]\n",
      "Calculateing adj matrix using xy only...\n",
      "Run 4: radius [1.4142135381698608, 3.3587570935487747], num_nbr [1.0, 20.04632152588556]\n",
      "Calculateing adj matrix using xy only...\n",
      "Run 5: radius [2.386485315859318, 3.3587570935487747], num_nbr [8.7574931880109, 20.04632152588556]\n",
      "Calculateing adj matrix using xy only...\n",
      "recommended radius =  2.8726212047040462 num_nbr=12.524523160762943\n",
      "radius= 2.8726212047040462 average number of neighbors for each spot is 12.524523160762943\n",
      " Cluster 0 has neighbors:\n",
      "Dmain  3 :  863\n",
      "Dmain  2 :  517\n",
      "SVGs for domain  0 : ['CAMK2N1', 'ENC1', 'GPM6A', 'ARPP19', 'HPCAL1']\n"
     ]
    }
   ],
   "source": [
    "target=0\n",
    "#Read in raw data\n",
    "adata=sc.read(\"../tutorial/data/151673/results.h5ad\")\n",
    "raw=sc.read(\"../tutorial/data/151673/sample_data.h5ad\")\n",
    "#Preprocessing\n",
    "raw.var_names_make_unique()\n",
    "raw.obs[\"pred\"]=adata.obs[\"pred\"].astype('category')\n",
    "raw.obs[\"x_array\"]=raw.obs[\"x2\"]\n",
    "raw.obs[\"y_array\"]=raw.obs[\"x3\"]\n",
    "raw.obs[\"x_pixel\"]=raw.obs[\"x4\"]\n",
    "raw.obs[\"y_pixel\"]=raw.obs[\"x5\"]\n",
    "raw.X=(raw.X.A if issparse(raw.X) else raw.X)\n",
    "raw.raw=raw\n",
    "sc.pp.log1p(raw)\n",
    "#Set filtering criterials\n",
    "min_in_group_fraction=0.8\n",
    "min_in_out_group_ratio=1\n",
    "min_fold_change=1.5\n",
    "filtered_info=detect_SVGs_ez_mode(raw, target=0, x_name=\"x_array\", y_name=\"y_array\", domain_name=\"pred\", min_in_group_fraction=min_in_group_fraction, min_in_out_group_ratio=min_in_out_group_ratio, min_fold_change=min_fold_change)"
   ]
  },
  {
   "cell_type": "code",
   "execution_count": null,
   "metadata": {},
   "outputs": [
    {
     "data": {
      "text/html": [
       "<div>\n",
       "<style scoped>\n",
       "    .dataframe tbody tr th:only-of-type {\n",
       "        vertical-align: middle;\n",
       "    }\n",
       "\n",
       "    .dataframe tbody tr th {\n",
       "        vertical-align: top;\n",
       "    }\n",
       "\n",
       "    .dataframe thead th {\n",
       "        text-align: right;\n",
       "    }\n",
       "</style>\n",
       "<table border=\"1\" class=\"dataframe\">\n",
       "  <thead>\n",
       "    <tr style=\"text-align: right;\">\n",
       "      <th></th>\n",
       "      <th>genes</th>\n",
       "      <th>in_group_fraction</th>\n",
       "      <th>out_group_fraction</th>\n",
       "      <th>in_out_group_ratio</th>\n",
       "      <th>in_group_mean_exp</th>\n",
       "      <th>out_group_mean_exp</th>\n",
       "      <th>fold_change</th>\n",
       "      <th>pvals_adj</th>\n",
       "      <th>target_dmain</th>\n",
       "      <th>neighbors</th>\n",
       "    </tr>\n",
       "  </thead>\n",
       "  <tbody>\n",
       "    <tr>\n",
       "      <th>0</th>\n",
       "      <td>CAMK2N1</td>\n",
       "      <td>1.000000</td>\n",
       "      <td>0.944964</td>\n",
       "      <td>1.058242</td>\n",
       "      <td>2.333675</td>\n",
       "      <td>1.578288</td>\n",
       "      <td>2.128434</td>\n",
       "      <td>1.656040e-11</td>\n",
       "      <td>0</td>\n",
       "      <td>[3, 2]</td>\n",
       "    </tr>\n",
       "    <tr>\n",
       "      <th>2</th>\n",
       "      <td>ENC1</td>\n",
       "      <td>0.998638</td>\n",
       "      <td>0.941848</td>\n",
       "      <td>1.060295</td>\n",
       "      <td>2.457791</td>\n",
       "      <td>1.696083</td>\n",
       "      <td>2.141931</td>\n",
       "      <td>1.552131e-03</td>\n",
       "      <td>0</td>\n",
       "      <td>[3, 2]</td>\n",
       "    </tr>\n",
       "    <tr>\n",
       "      <th>4</th>\n",
       "      <td>GPM6A</td>\n",
       "      <td>0.997275</td>\n",
       "      <td>0.922118</td>\n",
       "      <td>1.081505</td>\n",
       "      <td>2.224006</td>\n",
       "      <td>1.561187</td>\n",
       "      <td>1.940254</td>\n",
       "      <td>8.602227e-03</td>\n",
       "      <td>0</td>\n",
       "      <td>[3, 2]</td>\n",
       "    </tr>\n",
       "    <tr>\n",
       "      <th>6</th>\n",
       "      <td>ARPP19</td>\n",
       "      <td>0.982289</td>\n",
       "      <td>0.853583</td>\n",
       "      <td>1.150784</td>\n",
       "      <td>1.889256</td>\n",
       "      <td>1.272106</td>\n",
       "      <td>1.853637</td>\n",
       "      <td>4.823349e-02</td>\n",
       "      <td>0</td>\n",
       "      <td>[3, 2]</td>\n",
       "    </tr>\n",
       "    <tr>\n",
       "      <th>1</th>\n",
       "      <td>HPCAL1</td>\n",
       "      <td>0.851499</td>\n",
       "      <td>0.465213</td>\n",
       "      <td>1.830342</td>\n",
       "      <td>1.141321</td>\n",
       "      <td>0.406338</td>\n",
       "      <td>2.085448</td>\n",
       "      <td>9.706465e-05</td>\n",
       "      <td>0</td>\n",
       "      <td>[3, 2]</td>\n",
       "    </tr>\n",
       "  </tbody>\n",
       "</table>\n",
       "</div>"
      ],
      "text/plain": [
       "     genes  in_group_fraction  out_group_fraction  in_out_group_ratio  \\\n",
       "0  CAMK2N1           1.000000            0.944964            1.058242   \n",
       "2     ENC1           0.998638            0.941848            1.060295   \n",
       "4    GPM6A           0.997275            0.922118            1.081505   \n",
       "6   ARPP19           0.982289            0.853583            1.150784   \n",
       "1   HPCAL1           0.851499            0.465213            1.830342   \n",
       "\n",
       "   in_group_mean_exp  out_group_mean_exp  fold_change     pvals_adj  \\\n",
       "0           2.333675            1.578288     2.128434  1.656040e-11   \n",
       "2           2.457791            1.696083     2.141931  1.552131e-03   \n",
       "4           2.224006            1.561187     1.940254  8.602227e-03   \n",
       "6           1.889256            1.272106     1.853637  4.823349e-02   \n",
       "1           1.141321            0.406338     2.085448  9.706465e-05   \n",
       "\n",
       "   target_dmain neighbors  \n",
       "0             0    [3, 2]  \n",
       "2             0    [3, 2]  \n",
       "4             0    [3, 2]  \n",
       "6             0    [3, 2]  \n",
       "1             0    [3, 2]  "
      ]
     },
     "execution_count": 11,
     "metadata": {},
     "output_type": "execute_result"
    }
   ],
   "source": [
    "filtered_info"
   ]
  },
  {
   "cell_type": "markdown",
   "metadata": {},
   "source": [
    "#### Plot"
   ]
  },
  {
   "cell_type": "code",
   "execution_count": null,
   "metadata": {},
   "outputs": [],
   "source": [
    "color_self = clr.LinearSegmentedColormap.from_list('pink_green', ['#3AB370',\"#EAE7CC\",\"#FD1593\"], N=256)\n",
    "plot_SVGs_ez_mode(adata=raw, gene_list=filtered_info[\"genes\"].tolist(), x_name=\"y_pixel\", y_name=\"x_pixel\", plot_color=color_self, size=50, show=False, save=True, save_dir=\"./sample_results/\")"
   ]
  },
  {
   "cell_type": "markdown",
   "metadata": {},
   "source": [
    "**CAMK2N1**![](./sample_results/CAMK2N1.png) **ENC1**![](./sample_results/ENC1.png) **GPM6A**![](./sample_results/GPM6A.png) **ARPP19**![](c/ARPP19.png) **HPCAL1**![](./sample_results/HPCAL1.png)"
   ]
  },
  {
   "cell_type": "markdown",
   "metadata": {},
   "source": [
    "### 6. Identify Meta Gene"
   ]
  },
  {
   "cell_type": "markdown",
   "metadata": {},
   "source": [
    "- target: Target domain to detect meta gene.\n",
    "- start_gene: Gene to satrt with. Candidate start genes can be found by lowering the filtering criterials."
   ]
  },
  {
   "cell_type": "code",
   "execution_count": null,
   "metadata": {},
   "outputs": [
    {
     "name": "stdout",
     "output_type": "stream",
     "text": [
      "Add gene:  MGP\n",
      "Minus gene:  FTH1\n",
      "Absolute mean change: 0.8913243\n",
      "Number of non-target spots reduced to: 1888\n",
      "===========================================================================\n",
      "Meta gene is:  GFAP+MGP-FTH1\n",
      "===========================================================================\n",
      "Add gene:  MYL9\n",
      "Minus gene:  MBP\n",
      "Absolute mean change: 2.175557\n",
      "Number of non-target spots reduced to: 563\n",
      "===========================================================================\n",
      "Meta gene is:  GFAP+MGP-FTH1+MYL9-MBP\n",
      "===========================================================================\n",
      "Add gene:  KRT8\n",
      "Minus gene:  MT-ATP6\n",
      "Absolute mean change: 2.8935516\n",
      "Number of non-target spots reduced to: 111\n",
      "===========================================================================\n",
      "Meta gene is:  GFAP+MGP-FTH1+MYL9-MBP+KRT8-MT-ATP6\n",
      "===========================================================================\n",
      "Meta gene: GFAP+MGP-FTH1+MYL9-MBP+KRT8-MT-ATP6\n"
     ]
    }
   ],
   "source": [
    "target=2\n",
    "raw.obs[\"meta\"]=detect_meta_genes_ez_mode(raw, target, x_name=\"x_array\", y_name=\"y_array\", domain_name=\"pred\", start_gene=\"GFAP\", use_raw=False)"
   ]
  },
  {
   "cell_type": "markdown",
   "metadata": {},
   "source": [
    "#### Plot"
   ]
  },
  {
   "cell_type": "code",
   "execution_count": null,
   "metadata": {},
   "outputs": [],
   "source": [
    "plot_meta_genes_ez_mode(raw, x_name=\"y_pixel\", y_name=\"x_pixel\", meta_name=\"meta\", plot_color=color_self, size=50, show=False, save=True, save_dir=\"./\")"
   ]
  },
  {
   "cell_type": "markdown",
   "metadata": {},
   "source": [
    "**start**![](./sample_results/GFAP.png) **meta gene**![](./sample_results/meta_gene.png)"
   ]
  }
 ],
 "metadata": {
  "kernelspec": {
   "display_name": "Python 3",
   "language": "python",
   "name": "python3"
  },
  "language_info": {
   "codemirror_mode": {
    "name": "ipython",
    "version": 3
   },
   "file_extension": ".py",
   "mimetype": "text/x-python",
   "name": "python",
   "nbconvert_exporter": "python",
   "pygments_lexer": "ipython3",
   "version": "3.11.6"
  }
 },
 "nbformat": 4,
 "nbformat_minor": 2
}
